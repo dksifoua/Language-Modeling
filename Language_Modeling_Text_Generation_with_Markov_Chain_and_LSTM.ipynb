{
  "nbformat": 4,
  "nbformat_minor": 0,
  "metadata": {
    "colab": {
      "name": "Language Modeling - Text Generation with Markov Chain and LSTM.ipynb",
      "provenance": [],
      "collapsed_sections": [],
      "authorship_tag": "ABX9TyMJc+z/GlLygmLnLLbkrrbn",
      "include_colab_link": true
    },
    "kernelspec": {
      "name": "python3",
      "display_name": "Python 3"
    }
  },
  "cells": [
    {
      "cell_type": "markdown",
      "metadata": {
        "id": "view-in-github",
        "colab_type": "text"
      },
      "source": [
        "<a href=\"https://colab.research.google.com/github/dksifoua/Language-Modeling---Text-Generation-with-Markov-Chain-and-LSTM/blob/master/Language_Modeling_Text_Generation_with_Markov_Chain_and_LSTM.ipynb\" target=\"_parent\"><img src=\"https://colab.research.google.com/assets/colab-badge.svg\" alt=\"Open In Colab\"/></a>"
      ]
    },
    {
      "cell_type": "code",
      "metadata": {
        "id": "mKKeufGhAWkO",
        "colab_type": "code",
        "colab": {}
      },
      "source": [
        "import collections\n",
        "import numpy as np\n"
      ],
      "execution_count": 0,
      "outputs": []
    },
    {
      "cell_type": "code",
      "metadata": {
        "id": "Yqlp_QeaBlT1",
        "colab_type": "code",
        "colab": {
          "base_uri": "https://localhost:8080/",
          "height": 272
        },
        "outputId": "a09b7e24-d5fe-421f-fcce-baf348d3ee88"
      },
      "source": [
        "!wget http://cs.stanford.edu/people/karpathy/char-rnn/shakespeare_input.txt"
      ],
      "execution_count": 5,
      "outputs": [
        {
          "output_type": "stream",
          "text": [
            "--2020-03-09 20:48:10--  http://cs.stanford.edu/people/karpathy/char-rnn/shakespeare_input.txt\n",
            "Resolving cs.stanford.edu (cs.stanford.edu)... 171.64.64.64\n",
            "Connecting to cs.stanford.edu (cs.stanford.edu)|171.64.64.64|:80... connected.\n",
            "HTTP request sent, awaiting response... 301 Moved Permanently\n",
            "Location: https://cs.stanford.edu/people/karpathy/char-rnn/shakespeare_input.txt [following]\n",
            "--2020-03-09 20:48:10--  https://cs.stanford.edu/people/karpathy/char-rnn/shakespeare_input.txt\n",
            "Connecting to cs.stanford.edu (cs.stanford.edu)|171.64.64.64|:443... connected.\n",
            "HTTP request sent, awaiting response... 200 OK\n",
            "Length: 4573338 (4.4M) [text/plain]\n",
            "Saving to: ‘shakespeare_input.txt’\n",
            "\n",
            "shakespeare_input.t 100%[===================>]   4.36M  4.47MB/s    in 1.0s    \n",
            "\n",
            "2020-03-09 20:48:12 (4.47 MB/s) - ‘shakespeare_input.txt’ saved [4573338/4573338]\n",
            "\n"
          ],
          "name": "stdout"
        }
      ]
    },
    {
      "cell_type": "markdown",
      "metadata": {
        "id": "sPkB3r-GMcKN",
        "colab_type": "text"
      },
      "source": [
        "# Markov Chain Modeling"
      ]
    },
    {
      "cell_type": "code",
      "metadata": {
        "id": "WXlPmyBUBVs5",
        "colab_type": "code",
        "colab": {}
      },
      "source": [
        "class MarkovLangModel:\n",
        "\n",
        "    def __init__(self, filepath, n_gram):\n",
        "        self.filepath = filepath\n",
        "        self.n_gram = n_gram\n",
        "        self.model = collections.defaultdict(collections.Counter)\n",
        "\n",
        "    @classmethod\n",
        "    def normalize(cls, counter):\n",
        "        z = sum(counter.values())\n",
        "        return {char: count / z for char, count in counter.items()}\n",
        "\n",
        "    def fit(self):\n",
        "        data = open(self.filepath).read()\n",
        "        \n",
        "        # Padding\n",
        "        data = '~' * self.n_gram + data\n",
        "\n",
        "        # Estimating probabilities\n",
        "        for idx in range(len(data) - self.n_gram):\n",
        "            history, char = data[idx:idx+self.n_gram], data[idx+self.n_gram]\n",
        "            self.model[history][char] += 1\n",
        "        \n",
        "        # Normalizing\n",
        "        self.model = {history: self.__class__.normalize(char_count)\n",
        "                        for history, char_count in self.model.items()}\n",
        "\n",
        "        return self\n",
        "\n",
        "    def generate(self, input_='', max_len=1000):\n",
        "        doc = '~' * self.n_gram + input_\n",
        "        for _ in range(max_len):\n",
        "            history = doc[-self.n_gram:]\n",
        "            char = np.random.choice([*self.model[history].keys()],\n",
        "                                    p=[*self.model[history].values()])\n",
        "            doc += char\n",
        "        \n",
        "        return doc[self.n_gram:]"
      ],
      "execution_count": 0,
      "outputs": []
    },
    {
      "cell_type": "code",
      "metadata": {
        "id": "AbU6GA3KEHQZ",
        "colab_type": "code",
        "colab": {
          "base_uri": "https://localhost:8080/",
          "height": 714
        },
        "outputId": "a4fe7d57-8c25-4aa7-adff-34714eda189d"
      },
      "source": [
        "print(MarkovLangModel('shakespeare_input.txt',\n",
        "                      n_gram=4).fit().generate())"
      ],
      "execution_count": 55,
      "outputs": [
        {
          "output_type": "stream",
          "text": [
            "First noble her back\n",
            "From of Jove, when to! I am I am forth and so import worse, but be trius.\n",
            "\n",
            "This the stroken poor were me not me elded oak.\n",
            "\n",
            "FORD:\n",
            "No, I go\n",
            "tongue,\n",
            "And womansion! Ay, by my mine Narcius Cassion this night\n",
            "Hath in.\n",
            "\n",
            "QUEEN MARGARET:\n",
            "See hitherwisen Aumerless the ring son with two the Lucians, and even-penny,\n",
            "To herefore shouldst aughts;\n",
            "I'll be obtain: none?\n",
            "\n",
            "First.\n",
            "\n",
            "DUKE VINCE HENRY V:\n",
            "For no less pret.\n",
            "\n",
            "BRUTUS:\n",
            "Are you follow, for it not versario,\n",
            "Or one,\n",
            "Would 'scuss unto army mouth\n",
            "this blows so loset,\n",
            "We for actises\n",
            "Put heavy eyebrow,\n",
            "stand blest have away. Tell you second Witch:\n",
            "'Tis warlic-eates; is't or of a sworn;\n",
            "Fly the place of pause and middless bend his sent, sirrah.\n",
            "\n",
            "HORATIO:\n",
            "Calmly, it moved bark, have that it.\n",
            "\n",
            "OLIVIA:\n",
            "I am not blow to few I yet I believe himself took that looks fool! you more I this late host choly wrong,\n",
            "Women?\n",
            "There;\n",
            "Vice's stuff absent offer'd at learnest peace\n",
            "you'll brevitatio. What we breason, fare thout wit me threat that have\n"
          ],
          "name": "stdout"
        }
      ]
    },
    {
      "cell_type": "code",
      "metadata": {
        "id": "WyG1JOezKkKT",
        "colab_type": "code",
        "colab": {}
      },
      "source": [
        ""
      ],
      "execution_count": 0,
      "outputs": []
    }
  ]
}